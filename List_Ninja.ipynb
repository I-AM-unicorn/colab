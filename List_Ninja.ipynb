{
  "nbformat": 4,
  "nbformat_minor": 0,
  "metadata": {
    "colab": {
      "provenance": [],
      "authorship_tag": "ABX9TyMZ2rzfY+n5FJ8blPeB/dSI"
    },
    "kernelspec": {
      "name": "python3",
      "display_name": "Python 3"
    },
    "language_info": {
      "name": "python"
    }
  },
  "cells": [
    {
      "cell_type": "code",
      "execution_count": 2,
      "metadata": {
        "colab": {
          "base_uri": "https://localhost:8080/"
        },
        "id": "bfRyGAZJfbjb",
        "outputId": "ac625eac-acb8-4bac-cc69-7ea31c318b6d"
      },
      "outputs": [
        {
          "output_type": "execute_result",
          "data": {
            "text/plain": [
              "['patient', 'humble']"
            ]
          },
          "metadata": {},
          "execution_count": 2
        }
      ],
      "source": [
        "ninjaTraits = [\"silent\", \"sneaky\", \"patient\", \"humble\", \"strong\"]\n",
        "ninjaTraits[2:4]"
      ]
    },
    {
      "cell_type": "markdown",
      "source": [
        "Use of colon indicates first index value designated inclusive through last index value designated exclusive.\n",
        "See example above."
      ],
      "metadata": {
        "id": "nw770O2TgFof"
      }
    },
    {
      "cell_type": "markdown",
      "source": [
        "Challenge:  Create list of summer items containing beachball, towel, goggles, sunscreen, sneakers and backpack, in this order. Write the code to get the items 'towel, goggles and sunscreen' in a range."
      ],
      "metadata": {
        "id": "5GkXOJ_Ohohs"
      }
    },
    {
      "cell_type": "code",
      "source": [
        "summerItems = [\"beachball\", \"towel\", \"goggles\", \"sunscreen\", \"sneakers\", \"backpack\"]\n",
        "summerItems[1:4]"
      ],
      "metadata": {
        "colab": {
          "base_uri": "https://localhost:8080/"
        },
        "id": "QZswHRxggaoZ",
        "outputId": "651a326a-7b94-4363-e696-98526136fa97"
      },
      "execution_count": 3,
      "outputs": [
        {
          "output_type": "execute_result",
          "data": {
            "text/plain": [
              "['towel', 'goggles', 'sunscreen']"
            ]
          },
          "metadata": {},
          "execution_count": 3
        }
      ]
    }
  ]
}