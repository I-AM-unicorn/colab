{
  "nbformat": 4,
  "nbformat_minor": 0,
  "metadata": {
    "colab": {
      "provenance": [],
      "authorship_tag": "ABX9TyOYMuuU4lCuc6FVt9tPAYcP"
    },
    "kernelspec": {
      "name": "python3",
      "display_name": "Python 3"
    },
    "language_info": {
      "name": "python"
    }
  },
  "cells": [
    {
      "cell_type": "markdown",
      "source": [],
      "metadata": {
        "id": "uugxYuZ5Icqc"
      }
    },
    {
      "cell_type": "markdown",
      "source": [
        "Using the Remove function."
      ],
      "metadata": {
        "id": "aRnkDN2sIjam"
      }
    },
    {
      "cell_type": "code",
      "execution_count": 2,
      "metadata": {
        "colab": {
          "base_uri": "https://localhost:8080/"
        },
        "id": "DusjGM2rIOs-",
        "outputId": "d3821765-f478-4793-b731-a5ad991f67e7"
      },
      "outputs": [
        {
          "output_type": "stream",
          "name": "stdout",
          "text": [
            "['pizza', 'chili', 'spicy salsa and chips', 'hamburger steak', 'salad']\n"
          ]
        }
      ],
      "source": [
        "myFavoriteFoods = [\"pizza\", \"chili\", \"spicy salsa and chips\", \"hamburger steak\", \"salad\", \"raw broccoli\"]\n",
        "myFavoriteFoods.remove(\"raw broccoli\")\n",
        "print(myFavoriteFoods)"
      ]
    },
    {
      "cell_type": "markdown",
      "source": [
        "Challenge 1:  Create a 'pets' list. Populate the list with dogs, cats and fish. Using the Remove function, remove fish from the list."
      ],
      "metadata": {
        "id": "3uREMub8JV3S"
      }
    },
    {
      "cell_type": "code",
      "source": [
        "pets = [\"dogs\", \"cats\", \"fish\"]\n",
        "print(pets)"
      ],
      "metadata": {
        "colab": {
          "base_uri": "https://localhost:8080/"
        },
        "id": "qyh0a1nfJutS",
        "outputId": "59b23fb0-f472-4e91-da27-51936871932a"
      },
      "execution_count": 3,
      "outputs": [
        {
          "output_type": "stream",
          "name": "stdout",
          "text": [
            "['dogs', 'cats', 'fish']\n"
          ]
        }
      ]
    },
    {
      "cell_type": "code",
      "source": [
        "pets.remove(\"fish\")\n",
        "print(pets)"
      ],
      "metadata": {
        "colab": {
          "base_uri": "https://localhost:8080/"
        },
        "id": "yjrfsgIJJ9Aq",
        "outputId": "32ae753d-106a-4063-a919-b0ba10f58912"
      },
      "execution_count": 4,
      "outputs": [
        {
          "output_type": "stream",
          "name": "stdout",
          "text": [
            "['dogs', 'cats']\n"
          ]
        }
      ]
    },
    {
      "cell_type": "markdown",
      "source": [
        "Alternative method to delete item(s) from a list.  Using the Delete operator ( del ) to delete an item from an index position."
      ],
      "metadata": {
        "id": "Y7T1psF-KdhG"
      }
    },
    {
      "cell_type": "code",
      "source": [
        "foods = [\"eggs\", \"chicken\", \"corn\", \"orange juice\"]\n",
        "print(foods)"
      ],
      "metadata": {
        "colab": {
          "base_uri": "https://localhost:8080/"
        },
        "id": "yK4fRBGqKncp",
        "outputId": "c52ff243-0257-4cc9-eeaa-bdc54ea73c5a"
      },
      "execution_count": 6,
      "outputs": [
        {
          "output_type": "stream",
          "name": "stdout",
          "text": [
            "['eggs', 'chicken', 'corn', 'orange juice']\n"
          ]
        }
      ]
    },
    {
      "cell_type": "code",
      "source": [
        "# To remove \"eggs\" from the list.\n",
        "del foods[0]\n",
        "print(foods)"
      ],
      "metadata": {
        "colab": {
          "base_uri": "https://localhost:8080/"
        },
        "id": "AALPJegkLwLr",
        "outputId": "f082d7c7-f05e-4209-9468-775057a0a2ac"
      },
      "execution_count": 7,
      "outputs": [
        {
          "output_type": "stream",
          "name": "stdout",
          "text": [
            "['chicken', 'corn', 'orange juice']\n"
          ]
        }
      ]
    },
    {
      "cell_type": "markdown",
      "source": [
        "Challenge 2:  Create a 'rooms' list. Populate the list with the following items: bedroom, living room, kitchen and bathroom. Write code using the 'del' keyword to remove 'bathroom' from the rooms list."
      ],
      "metadata": {
        "id": "8sOcORWUNVlL"
      }
    },
    {
      "cell_type": "code",
      "source": [
        "rooms = [\"bedroom\", \"living room\", \"kitchen\", \"bathroom\"]\n",
        "print(rooms)"
      ],
      "metadata": {
        "colab": {
          "base_uri": "https://localhost:8080/"
        },
        "id": "f3suGWKQOJMD",
        "outputId": "ffd1817c-9a00-4aac-b1ca-850a10d3a71e"
      },
      "execution_count": 8,
      "outputs": [
        {
          "output_type": "stream",
          "name": "stdout",
          "text": [
            "['bedroom', 'living room', 'kitchen', 'bathroom']\n"
          ]
        }
      ]
    },
    {
      "cell_type": "code",
      "source": [
        "del rooms[3]\n",
        "print(rooms)"
      ],
      "metadata": {
        "colab": {
          "base_uri": "https://localhost:8080/"
        },
        "id": "gMmkXYdlOhlw",
        "outputId": "d133b704-44f9-4bbe-ce2b-25c2b5cf53a7"
      },
      "execution_count": 9,
      "outputs": [
        {
          "output_type": "stream",
          "name": "stdout",
          "text": [
            "['bedroom', 'living room', 'kitchen']\n"
          ]
        }
      ]
    },
    {
      "cell_type": "markdown",
      "source": [
        "Challenge 3:  Deleting a range. Create a 'veggies' list. Include, in order, carrot, potato, beet and mushroom.  Write the code to remove all values from beet to the end of the list."
      ],
      "metadata": {
        "id": "OixiHTZBPNCN"
      }
    },
    {
      "cell_type": "code",
      "source": [
        "veggies = [\"carrot\", \"potato\", \"beet\", \"mushroom\"]\n",
        "print(veggies)"
      ],
      "metadata": {
        "colab": {
          "base_uri": "https://localhost:8080/"
        },
        "id": "ueZeZ6woPROI",
        "outputId": "7a6c39b0-0f2f-47ea-d901-e232696b1e0d"
      },
      "execution_count": 10,
      "outputs": [
        {
          "output_type": "stream",
          "name": "stdout",
          "text": [
            "['carrot', 'potato', 'beet', 'mushroom']\n"
          ]
        }
      ]
    },
    {
      "cell_type": "code",
      "source": [
        "del veggies[2:]\n",
        "print(veggies)"
      ],
      "metadata": {
        "colab": {
          "base_uri": "https://localhost:8080/"
        },
        "id": "eTeTgqylR3e5",
        "outputId": "dc15b243-482a-495d-aece-d6c5eb7da2d9"
      },
      "execution_count": 11,
      "outputs": [
        {
          "output_type": "stream",
          "name": "stdout",
          "text": [
            "['carrot', 'potato']\n"
          ]
        }
      ]
    },
    {
      "cell_type": "markdown",
      "source": [
        "Extra: create big list. Delete a range in the middle of the lis leaving the first two and last two items remaining."
      ],
      "metadata": {
        "id": "m0Hr5MtqSCCZ"
      }
    },
    {
      "cell_type": "code",
      "source": [
        "myFavoriteFoods = [\"pizza\", \"chili\", \"spicy salsa and chips\", \"hamburger steak\", \"salad\"]\n",
        "myFavoriteFoods.append(\"raw broccoli\")\n",
        "myFavoriteFoods.append(\"egg salad\")\n",
        "myFavoriteFoods.append(\"bacon\")\n",
        "myFavoriteFoods.append(\"grilled cheese sandwich\")\n",
        "print(myFavoriteFoods)"
      ],
      "metadata": {
        "colab": {
          "base_uri": "https://localhost:8080/"
        },
        "id": "CF80aBNLSUhu",
        "outputId": "cc6eb036-bd9c-44b1-cb4e-4c989710fc5f"
      },
      "execution_count": 14,
      "outputs": [
        {
          "output_type": "stream",
          "name": "stdout",
          "text": [
            "['pizza', 'chili', 'spicy salsa and chips', 'hamburger steak', 'salad', 'raw broccoli', 'egg salad', 'bacon', 'grilled cheese sandwich']\n"
          ]
        }
      ]
    },
    {
      "cell_type": "code",
      "source": [
        "del myFavoriteFoods[3:8]\n",
        "print(myFavoriteFoods)"
      ],
      "metadata": {
        "colab": {
          "base_uri": "https://localhost:8080/"
        },
        "id": "AMoPA_q8Tvvs",
        "outputId": "9ca90eea-4bcf-41a2-91ee-aa7d83018cae"
      },
      "execution_count": 15,
      "outputs": [
        {
          "output_type": "stream",
          "name": "stdout",
          "text": [
            "['pizza', 'chili', 'spicy salsa and chips', 'grilled cheese sandwich']\n"
          ]
        }
      ]
    }
  ]
}