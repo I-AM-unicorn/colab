{
  "nbformat": 4,
  "nbformat_minor": 0,
  "metadata": {
    "colab": {
      "provenance": [],
      "authorship_tag": "ABX9TyOatQkaqg2RnauyqUMatQVe"
    },
    "kernelspec": {
      "name": "python3",
      "display_name": "Python 3"
    },
    "language_info": {
      "name": "python"
    }
  },
  "cells": [
    {
      "cell_type": "code",
      "execution_count": null,
      "metadata": {
        "colab": {
          "base_uri": "https://localhost:8080/"
        },
        "id": "cVqm7hlfm7WV",
        "outputId": "3fa2f95e-cee2-4c48-ec86-05ff2b230afd"
      },
      "outputs": [
        {
          "output_type": "execute_result",
          "data": {
            "text/plain": [
              "['patient', 'humble', 'strong']"
            ]
          },
          "metadata": {},
          "execution_count": 1
        }
      ],
      "source": [
        "ninjaTraits = [\"silent\", \"sneaky\", \"patient\", \"humble\", \"strong\"]\n",
        "ninjaTraits[2:]"
      ]
    },
    {
      "cell_type": "markdown",
      "source": [
        "To print from selected index to the end of the list, choose beginning index (it will be inclusive), then colon.  This will get all from selected inclusive to the end of the list.  See example above."
      ],
      "metadata": {
        "id": "5RhGdwS4ocvk"
      }
    },
    {
      "cell_type": "code",
      "source": [],
      "metadata": {
        "id": "jR46PvQCpC9t"
      },
      "execution_count": null,
      "outputs": []
    }
  ]
}