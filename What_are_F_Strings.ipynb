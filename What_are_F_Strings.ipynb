{
  "nbformat": 4,
  "nbformat_minor": 0,
  "metadata": {
    "colab": {
      "provenance": [],
      "authorship_tag": "ABX9TyOeLzyAX1jPlWfMRmf5usaP"
    },
    "kernelspec": {
      "name": "python3",
      "display_name": "Python 3"
    },
    "language_info": {
      "name": "python"
    }
  },
  "cells": [
    {
      "cell_type": "code",
      "execution_count": null,
      "metadata": {
        "colab": {
          "base_uri": "https://localhost:8080/"
        },
        "id": "SjEJufaKn-FR",
        "outputId": "1f54dc2e-ef1c-4103-aba9-8d2549955981"
      },
      "outputs": [
        {
          "output_type": "stream",
          "name": "stdout",
          "text": [
            "My coding studies are Python first. Once done, I will focus on others. My physical break will employ Saijutsu for this month.\n"
          ]
        }
      ],
      "source": [
        "subjectCoding = \"Python\"\n",
        "subjectPhysical = \"Saijutsu\"\n",
        "print(f\"My coding studies are {subjectCoding} first. Once done, I will focus on others. My physical break will employ {subjectPhysical} for this month.\")"
      ]
    }
  ]
}