{
  "nbformat": 4,
  "nbformat_minor": 0,
  "metadata": {
    "colab": {
      "provenance": [],
      "authorship_tag": "ABX9TyOiU7ZAyQ7c1Z6kIkSteQfv"
    },
    "kernelspec": {
      "name": "python3",
      "display_name": "Python 3"
    },
    "language_info": {
      "name": "python"
    }
  },
  "cells": [
    {
      "cell_type": "markdown",
      "source": [
        "While Loops test for condition until False condition occurs. If False does not occur, an infinite loop is created."
      ],
      "metadata": {
        "id": "E-xiKdvMN3uz"
      }
    },
    {
      "cell_type": "code",
      "execution_count": null,
      "metadata": {
        "id": "9daeNpFtM0rx"
      },
      "outputs": [],
      "source": [
        "# Basic While Loop Structure\n",
        "# while test:\n",
        "#   code to execute"
      ]
    },
    {
      "cell_type": "code",
      "source": [
        "# Example\n",
        "position = 0\n",
        "endPosition = 5\n",
        "while position < endPosition:\n",
        "  position += 1\n",
        "  print(position)\n",
        "\n",
        "  # At this point the code ceases to execute. Continue with code or end."
      ],
      "metadata": {
        "colab": {
          "base_uri": "https://localhost:8080/"
        },
        "id": "pGygAccQNTHC",
        "outputId": "0452c44a-eaa2-4af3-9e0c-289b0a581432"
      },
      "execution_count": 1,
      "outputs": [
        {
          "output_type": "stream",
          "name": "stdout",
          "text": [
            "1\n",
            "2\n",
            "3\n",
            "4\n",
            "5\n"
          ]
        }
      ]
    }
  ]
}