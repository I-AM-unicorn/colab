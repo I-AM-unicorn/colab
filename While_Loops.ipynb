{
  "nbformat": 4,
  "nbformat_minor": 0,
  "metadata": {
    "colab": {
      "provenance": [],
      "authorship_tag": "ABX9TyO+hwONNhKvZovd2n7O2uAu"
    },
    "kernelspec": {
      "name": "python3",
      "display_name": "Python 3"
    },
    "language_info": {
      "name": "python"
    }
  },
  "cells": [
    {
      "cell_type": "code",
      "execution_count": null,
      "metadata": {
        "id": "9daeNpFtM0rx"
      },
      "outputs": [],
      "source": [
        "# Basic While Loop Structure\n",
        "# while test:\n",
        "#   code to execute"
      ]
    },
    {
      "cell_type": "code",
      "source": [],
      "metadata": {
        "id": "pGygAccQNTHC"
      },
      "execution_count": null,
      "outputs": []
    }
  ]
}