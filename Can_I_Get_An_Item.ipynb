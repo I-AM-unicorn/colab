{
  "nbformat": 4,
  "nbformat_minor": 0,
  "metadata": {
    "colab": {
      "provenance": [],
      "authorship_tag": "ABX9TyPqw7ybOwpLRtVFmRag0Xim"
    },
    "kernelspec": {
      "name": "python3",
      "display_name": "Python 3"
    },
    "language_info": {
      "name": "python"
    }
  },
  "cells": [
    {
      "cell_type": "markdown",
      "source": [
        "Challenge:create clothing list containing hat, shirt and sneakers.\n",
        "Write code to get the 'sneakers' item from this list."
      ],
      "metadata": {
        "id": "Cq7oH0vZwXg-"
      }
    },
    {
      "cell_type": "code",
      "execution_count": 2,
      "metadata": {
        "colab": {
          "base_uri": "https://localhost:8080/",
          "height": 36
        },
        "id": "W7XffoYCwPTQ",
        "outputId": "b204bffb-58a9-4369-fadd-c7a4052c9bdb"
      },
      "outputs": [
        {
          "output_type": "execute_result",
          "data": {
            "text/plain": [
              "'sneakers'"
            ],
            "application/vnd.google.colaboratory.intrinsic+json": {
              "type": "string"
            }
          },
          "metadata": {},
          "execution_count": 2
        }
      ],
      "source": [
        "clothingList = ['hat', 'shirt', 'sneakers']\n",
        "clothingList[2]"
      ]
    }
  ]
}