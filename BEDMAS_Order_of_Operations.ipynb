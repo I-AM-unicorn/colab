{
  "nbformat": 4,
  "nbformat_minor": 0,
  "metadata": {
    "colab": {
      "provenance": [],
      "authorship_tag": "ABX9TyPvmti9PD6NC+h2spVlJucQ"
    },
    "kernelspec": {
      "name": "python3",
      "display_name": "Python 3"
    },
    "language_info": {
      "name": "python"
    }
  },
  "cells": [
    {
      "cell_type": "markdown",
      "source": [
        "Challenge:  10 + (10 + 2) - 1/4 ** 2\n",
        "= 21.9375"
      ],
      "metadata": {
        "id": "VyrWZghSu_k7"
      }
    },
    {
      "cell_type": "code",
      "source": [
        "print(10+(10+2)-1/4**2)"
      ],
      "metadata": {
        "colab": {
          "base_uri": "https://localhost:8080/"
        },
        "id": "L8jZc_2Zvhgq",
        "outputId": "8f8c0071-1c96-4f38-bbff-4ef430e8ffff"
      },
      "execution_count": 1,
      "outputs": [
        {
          "output_type": "stream",
          "name": "stdout",
          "text": [
            "21.9375\n"
          ]
        }
      ]
    }
  ]
}