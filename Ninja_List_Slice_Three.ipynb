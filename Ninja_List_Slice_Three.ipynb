{
  "nbformat": 4,
  "nbformat_minor": 0,
  "metadata": {
    "colab": {
      "provenance": [],
      "authorship_tag": "ABX9TyO+rECW2WEAdtshw34Ob1QX"
    },
    "kernelspec": {
      "name": "python3",
      "display_name": "Python 3"
    },
    "language_info": {
      "name": "python"
    }
  },
  "cells": [
    {
      "cell_type": "code",
      "execution_count": 1,
      "metadata": {
        "colab": {
          "base_uri": "https://localhost:8080/"
        },
        "id": "6TDQpbCGpN5C",
        "outputId": "0e4927fd-97b1-444a-e57e-963896eb2bb7"
      },
      "outputs": [
        {
          "output_type": "execute_result",
          "data": {
            "text/plain": [
              "['silent', 'sneaky', 'patient', 'humble']"
            ]
          },
          "metadata": {},
          "execution_count": 1
        }
      ],
      "source": [
        "ninjaTraits = [\"silent\", \"sneaky\", \"patient\", \"humble\", \"strong\"]\n",
        "ninjaTraits[:4]"
      ]
    },
    {
      "cell_type": "markdown",
      "source": [
        "To print from the beginning of the list to a selected idex, Enter the colon then choose the selected index nuber + 1. This will get all from the beginning of the list to the selected index exclusive. See example above."
      ],
      "metadata": {
        "id": "IcHyoM57qULc"
      }
    },
    {
      "cell_type": "markdown",
      "source": [
        "Challenge: Create My Favorite Places list to include playground, beach, room, library, forest and school, in order. Write the code to get all the values in the list from the beginning up to and including forest."
      ],
      "metadata": {
        "id": "6bzuUCghtA5r"
      }
    },
    {
      "cell_type": "code",
      "source": [
        "myFavoritePlaces = [\"playground\", \"beach\", \"room\", \"library\", \"forest\", \"school\"]\n",
        "myFavoritePlaces[:5]"
      ],
      "metadata": {
        "colab": {
          "base_uri": "https://localhost:8080/"
        },
        "id": "wOb0SAAtrN4d",
        "outputId": "40daed8e-074c-4137-b766-c5ea2fd87fb3"
      },
      "execution_count": 3,
      "outputs": [
        {
          "output_type": "execute_result",
          "data": {
            "text/plain": [
              "['playground', 'beach', 'room', 'library', 'forest']"
            ]
          },
          "metadata": {},
          "execution_count": 3
        }
      ]
    }
  ]
}