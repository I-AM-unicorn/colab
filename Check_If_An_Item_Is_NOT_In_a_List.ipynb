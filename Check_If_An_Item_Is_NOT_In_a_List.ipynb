{
  "nbformat": 4,
  "nbformat_minor": 0,
  "metadata": {
    "colab": {
      "provenance": [],
      "authorship_tag": "ABX9TyOzWG9g9zNqVDpg04ab8S8t"
    },
    "kernelspec": {
      "name": "python3",
      "display_name": "Python 3"
    },
    "language_info": {
      "name": "python"
    }
  },
  "cells": [
    {
      "cell_type": "markdown",
      "source": [
        "Two or more keywords create a key phrase."
      ],
      "metadata": {
        "id": "RgXgaO8R1rlj"
      }
    },
    {
      "cell_type": "code",
      "execution_count": 1,
      "metadata": {
        "colab": {
          "base_uri": "https://localhost:8080/"
        },
        "id": "wZsCBhtG1iZm",
        "outputId": "218626ae-c157-493a-c14e-c2dc63c5ea87"
      },
      "outputs": [
        {
          "output_type": "execute_result",
          "data": {
            "text/plain": [
              "True"
            ]
          },
          "metadata": {},
          "execution_count": 1
        }
      ],
      "source": [
        "ingredients = [\"eggs\", \"butter\", \"water\", \"sugar\", \"chocolate\"]\n",
        "\"vanilla\" not in ingredients"
      ]
    },
    {
      "cell_type": "markdown",
      "source": [
        "'not' is a keyword used to modify another keyword creating a key phrase."
      ],
      "metadata": {
        "id": "1TOHKUos1pIv"
      }
    },
    {
      "cell_type": "code",
      "source": [
        "\"eggs\" not in ingredients"
      ],
      "metadata": {
        "colab": {
          "base_uri": "https://localhost:8080/"
        },
        "id": "3u7IC1wo2rJd",
        "outputId": "d1840eee-a0ec-464b-82c0-be3ad84f630c"
      },
      "execution_count": 2,
      "outputs": [
        {
          "output_type": "execute_result",
          "data": {
            "text/plain": [
              "False"
            ]
          },
          "metadata": {},
          "execution_count": 2
        }
      ]
    },
    {
      "cell_type": "markdown",
      "source": [
        "Challenge: Create 'games' list containg the values 'hide and seek, 'tag, 'cops and robbers' and 'marco polo.' Write the code to check if 'hide and go seek' is NOT in the 'games'list."
      ],
      "metadata": {
        "id": "ISGcIhAp4B59"
      }
    },
    {
      "cell_type": "code",
      "source": [
        "games = [\"hide and seek\", \"tag\", \"cops and robbers\", \"marco polo\"]\n",
        "\"hide and go seek\" not in games"
      ],
      "metadata": {
        "colab": {
          "base_uri": "https://localhost:8080/"
        },
        "id": "83h91btK4ymh",
        "outputId": "2e814b3c-20b5-4837-faea-5544a0cf191a"
      },
      "execution_count": 4,
      "outputs": [
        {
          "output_type": "execute_result",
          "data": {
            "text/plain": [
              "True"
            ]
          },
          "metadata": {},
          "execution_count": 4
        }
      ]
    }
  ]
}