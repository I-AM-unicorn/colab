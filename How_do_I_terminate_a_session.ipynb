{
  "nbformat": 4,
  "nbformat_minor": 0,
  "metadata": {
    "colab": {
      "provenance": [],
      "authorship_tag": "ABX9TyPmKKk1VHk094FH0BFH3ERg"
    },
    "kernelspec": {
      "name": "python3",
      "display_name": "Python 3"
    },
    "language_info": {
      "name": "python"
    }
  },
  "cells": [
    {
      "cell_type": "code",
      "execution_count": null,
      "metadata": {
        "colab": {
          "base_uri": "https://localhost:8080/"
        },
        "id": "9DT0KCPYKWqz",
        "outputId": "e0cb87fa-2fc2-46d1-d730-89d1849f182d"
      },
      "outputs": [
        {
          "output_type": "stream",
          "name": "stdout",
          "text": [
            "This is a session\n"
          ]
        }
      ],
      "source": [
        "print(\"This is a session\")"
      ]
    }
  ]
}