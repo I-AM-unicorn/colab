{
  "nbformat": 4,
  "nbformat_minor": 0,
  "metadata": {
    "colab": {
      "provenance": [],
      "authorship_tag": "ABX9TyPwGsC2Oa03ZNdPK/34SRhy"
    },
    "kernelspec": {
      "name": "python3",
      "display_name": "Python 3"
    },
    "language_info": {
      "name": "python"
    }
  },
  "cells": [
    {
      "cell_type": "code",
      "execution_count": 2,
      "metadata": {
        "colab": {
          "base_uri": "https://localhost:8080/"
        },
        "id": "bqNgTDCZwB1T",
        "outputId": "4bef80fc-7630-4532-93fa-00b458e33e4c"
      },
      "outputs": [
        {
          "output_type": "execute_result",
          "data": {
            "text/plain": [
              "True"
            ]
          },
          "metadata": {},
          "execution_count": 2
        }
      ],
      "source": [
        "colors =[\"blue\", \"green\", \"brown\", \"yellow\", \"orange\", \"purple\", \"violet\", \"teal\"]\n",
        "\"orange\" in colors"
      ]
    },
    {
      "cell_type": "code",
      "source": [
        "\"pink\" in colors"
      ],
      "metadata": {
        "colab": {
          "base_uri": "https://localhost:8080/"
        },
        "id": "5xAmImd5xaYR",
        "outputId": "8a846e5b-8e42-4aa6-8510-7bed81326556"
      },
      "execution_count": 3,
      "outputs": [
        {
          "output_type": "execute_result",
          "data": {
            "text/plain": [
              "False"
            ]
          },
          "metadata": {},
          "execution_count": 3
        }
      ]
    },
    {
      "cell_type": "markdown",
      "source": [
        "'in' is a key word. A keyword is a defined function in Python.\n",
        "Result is a Boolean expression."
      ],
      "metadata": {
        "id": "-v8DgGqJwzxu"
      }
    },
    {
      "cell_type": "code",
      "source": [
        "\"purple\" in colors"
      ],
      "metadata": {
        "colab": {
          "base_uri": "https://localhost:8080/"
        },
        "id": "yToBiYSEw48u",
        "outputId": "6ea7233f-d924-46d7-f61b-eaf95f0b4768"
      },
      "execution_count": 5,
      "outputs": [
        {
          "output_type": "execute_result",
          "data": {
            "text/plain": [
              "True"
            ]
          },
          "metadata": {},
          "execution_count": 5
        }
      ]
    },
    {
      "cell_type": "code",
      "source": [
        "\"Purple\" in colors"
      ],
      "metadata": {
        "colab": {
          "base_uri": "https://localhost:8080/"
        },
        "id": "jgFhiPB0yLLZ",
        "outputId": "603ea22d-2829-4b00-9813-33b87ebad66c"
      },
      "execution_count": 6,
      "outputs": [
        {
          "output_type": "execute_result",
          "data": {
            "text/plain": [
              "False"
            ]
          },
          "metadata": {},
          "execution_count": 6
        }
      ]
    },
    {
      "cell_type": "markdown",
      "source": [
        "NOTE: Case Sensitive."
      ],
      "metadata": {
        "id": "WvyeKKZlyQeU"
      }
    },
    {
      "cell_type": "markdown",
      "source": [
        "Challenge 1: Create 'shapes' list to include square, circle, triangle, oval and sphere. Writr the code to check if 'oval' is in the 'shapes' list."
      ],
      "metadata": {
        "id": "WIaBmx_iy6VD"
      }
    },
    {
      "cell_type": "code",
      "source": [
        "shapes = [\"square\", \"circle\", \"triangle\", \"oval\", \"sphere\"]\n",
        "\"oval\" in shapes"
      ],
      "metadata": {
        "colab": {
          "base_uri": "https://localhost:8080/"
        },
        "id": "awLfJss_yVd9",
        "outputId": "9e671c82-4d77-4cca-b27b-0bd61442720b"
      },
      "execution_count": 7,
      "outputs": [
        {
          "output_type": "execute_result",
          "data": {
            "text/plain": [
              "True"
            ]
          },
          "metadata": {},
          "execution_count": 7
        }
      ]
    },
    {
      "cell_type": "markdown",
      "source": [
        "Challenge 2:  Writr the code to check if 'cube' is in the 'shapes' list."
      ],
      "metadata": {
        "id": "lPbgAzHcz6fQ"
      }
    },
    {
      "cell_type": "code",
      "source": [
        "\"cube\" in shapes"
      ],
      "metadata": {
        "colab": {
          "base_uri": "https://localhost:8080/"
        },
        "id": "n1YviJqq0JFp",
        "outputId": "bfe4234f-9a99-4316-bcf5-995495882c89"
      },
      "execution_count": 8,
      "outputs": [
        {
          "output_type": "execute_result",
          "data": {
            "text/plain": [
              "False"
            ]
          },
          "metadata": {},
          "execution_count": 8
        }
      ]
    }
  ]
}