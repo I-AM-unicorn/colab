{
  "nbformat": 4,
  "nbformat_minor": 0,
  "metadata": {
    "colab": {
      "provenance": [],
      "authorship_tag": "ABX9TyMFZlY7ahJ2JV90abT8Wozu"
    },
    "kernelspec": {
      "name": "python3",
      "display_name": "Python 3"
    },
    "language_info": {
      "name": "python"
    }
  },
  "cells": [
    {
      "cell_type": "code",
      "execution_count": null,
      "metadata": {
        "id": "Dvh2Tb0mP2A9"
      },
      "outputs": [],
      "source": [
        "# For Loop\n",
        "# Typically have a predefined start and endpoint\n",
        "# Often paired with Lists or Ranges\n",
        "#"
      ]
    },
    {
      "cell_type": "code",
      "source": [
        "inventory = [\"Axe\", \"Knife\", \"Helmet\"]\n",
        "for item in inventory: # Iterate all items in order\n",
        "  print(item)"
      ],
      "metadata": {
        "colab": {
          "base_uri": "https://localhost:8080/"
        },
        "id": "uEzbaC9kb2j7",
        "outputId": "84d4ae8f-82fe-4020-9f1f-0f666c75f742"
      },
      "execution_count": 2,
      "outputs": [
        {
          "output_type": "stream",
          "name": "stdout",
          "text": [
            "Axe\n",
            "Knife\n",
            "Helmet\n"
          ]
        }
      ]
    },
    {
      "cell_type": "code",
      "source": [
        "for i in range(5): # From 0 - 5, iterate in order, last item exclusive\n",
        "  print(i)\n"
      ],
      "metadata": {
        "colab": {
          "base_uri": "https://localhost:8080/"
        },
        "id": "rYHRB5xudAkZ",
        "outputId": "89ca41ec-159f-48c3-f134-39d388c0b8e6"
      },
      "execution_count": 4,
      "outputs": [
        {
          "output_type": "stream",
          "name": "stdout",
          "text": [
            "0\n",
            "1\n",
            "2\n",
            "3\n",
            "4\n"
          ]
        }
      ]
    }
  ]
}