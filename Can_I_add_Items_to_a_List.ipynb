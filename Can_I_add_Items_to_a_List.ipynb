{
  "nbformat": 4,
  "nbformat_minor": 0,
  "metadata": {
    "colab": {
      "provenance": [],
      "authorship_tag": "ABX9TyPZ97z+GR9zB/S9IbY+btlh"
    },
    "kernelspec": {
      "name": "python3",
      "display_name": "Python 3"
    },
    "language_info": {
      "name": "python"
    }
  },
  "cells": [
    {
      "cell_type": "markdown",
      "source": [
        "String Example"
      ],
      "metadata": {
        "id": "rWc2r26I612c"
      }
    },
    {
      "cell_type": "code",
      "execution_count": 3,
      "metadata": {
        "colab": {
          "base_uri": "https://localhost:8080/"
        },
        "id": "FTPNynue5zhx",
        "outputId": "097e3821-06bb-46c1-cf36-e64a4b2ba3d9"
      },
      "outputs": [
        {
          "output_type": "stream",
          "name": "stdout",
          "text": [
            "['puppy', 'kitten', 'goose', 'elephant', 'chicken', 'pig', 'duck']\n"
          ]
        }
      ],
      "source": [
        "animals =[\"puppy\", \"kitten\", \"goose\", \"elephant\", \"chicken\", \"pig\"]\n",
        "animals = animals +[\"duck\"]\n",
        "print(animals)"
      ]
    },
    {
      "cell_type": "markdown",
      "source": [
        "Shorthand version"
      ],
      "metadata": {
        "id": "oeFL9Ym074VM"
      }
    },
    {
      "cell_type": "code",
      "source": [
        "animals += [\"hamster\"]\n",
        "print(animals)"
      ],
      "metadata": {
        "colab": {
          "base_uri": "https://localhost:8080/"
        },
        "id": "mJUeDnwu7--r",
        "outputId": "5e622d02-e8d0-4281-a628-f4d245ece615"
      },
      "execution_count": 6,
      "outputs": [
        {
          "output_type": "stream",
          "name": "stdout",
          "text": [
            "['puppy', 'kitten', 'goose', 'elephant', 'chicken', 'pig', 'duck', 'hamster']\n"
          ]
        }
      ]
    },
    {
      "cell_type": "markdown",
      "source": [
        "Note: Failure to use brackets around string will cause individual characters to be added to your list instead of the string value itself (i.e. 's, t, r, i, n, g' instead of 'string')"
      ],
      "metadata": {
        "id": "OEbs31ZS9sHC"
      }
    },
    {
      "cell_type": "markdown",
      "source": [
        "Integer Example:"
      ],
      "metadata": {
        "id": "2HK1GfoI67Bw"
      }
    },
    {
      "cell_type": "code",
      "source": [
        "myFavoriteNumbers = [34, 1, 9, 10, 100]\n",
        "myFavoriteNumbers = myFavoriteNumbers + [2]\n",
        "print(myFavoriteNumbers)"
      ],
      "metadata": {
        "colab": {
          "base_uri": "https://localhost:8080/"
        },
        "id": "cp73wKOI6uod",
        "outputId": "ef0ac480-5301-43a6-d325-cc2afff2df91"
      },
      "execution_count": 5,
      "outputs": [
        {
          "output_type": "stream",
          "name": "stdout",
          "text": [
            "[34, 1, 9, 10, 100, 2]\n"
          ]
        }
      ]
    },
    {
      "cell_type": "markdown",
      "source": [
        "Shorthand Version"
      ],
      "metadata": {
        "id": "g5u1xpnN8mB2"
      }
    },
    {
      "cell_type": "code",
      "source": [
        "myFavoriteNumbers += [30]\n",
        "print(myFavoriteNumbers)"
      ],
      "metadata": {
        "colab": {
          "base_uri": "https://localhost:8080/"
        },
        "id": "xtRJb6P98pTP",
        "outputId": "e2c598e4-e548-44dd-8154-c5854d3b6127"
      },
      "execution_count": 7,
      "outputs": [
        {
          "output_type": "stream",
          "name": "stdout",
          "text": [
            "[34, 1, 9, 10, 100, 2, 30]\n"
          ]
        }
      ]
    },
    {
      "cell_type": "markdown",
      "source": [
        "Challenge: Create a list of Favorite Foods. Add least favorite food to the end using the shorthand operator."
      ],
      "metadata": {
        "id": "Qb7TI1wM-_6S"
      }
    },
    {
      "cell_type": "code",
      "source": [
        "myFavoriteFoods = [\"pizza\", \"chili\", \"spicy salsa and chips\", \"hamburger steak\", \"salad\", \"raw broccoli\"]\n",
        "myFavoriteFoods += [\"steamed broccoli\"]\n",
        "print(myFavoriteFoods)"
      ],
      "metadata": {
        "colab": {
          "base_uri": "https://localhost:8080/"
        },
        "id": "gQV95krb_rfu",
        "outputId": "895702a5-2aab-48d4-e622-9816173de480"
      },
      "execution_count": 9,
      "outputs": [
        {
          "output_type": "stream",
          "name": "stdout",
          "text": [
            "['pizza', 'chili', 'spicy salsa and chips', 'hamburger steak', 'salad', 'raw broccoli', 'steamed broccoli']\n"
          ]
        }
      ]
    }
  ]
}