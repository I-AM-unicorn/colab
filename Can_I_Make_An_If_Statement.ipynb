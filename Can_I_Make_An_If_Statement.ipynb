{
  "nbformat": 4,
  "nbformat_minor": 0,
  "metadata": {
    "colab": {
      "provenance": [],
      "authorship_tag": "ABX9TyPYunTi+yDMmWjNIEa9lHOT"
    },
    "kernelspec": {
      "name": "python3",
      "display_name": "Python 3"
    },
    "language_info": {
      "name": "python"
    }
  },
  "cells": [
    {
      "cell_type": "code",
      "execution_count": 1,
      "metadata": {
        "colab": {
          "base_uri": "https://localhost:8080/"
        },
        "id": "FvrArwQCU4wh",
        "outputId": "3524ec40-7eeb-4bcd-893e-ff2a7e62f92a"
      },
      "outputs": [
        {
          "output_type": "stream",
          "name": "stdout",
          "text": [
            "you completed a level!\n"
          ]
        }
      ],
      "source": [
        "door = \"Next Level\"\n",
        "if door == \"Next Level\" :\n",
        "  levelzcompleted = True\n",
        "  print(\"you completed a level!\")"
      ]
    },
    {
      "cell_type": "code",
      "source": [
        "door = \"Dungeon\"\n",
        "if door == \"Next Level\" :\n",
        "  levelCompleted = True\n",
        "  print(\"You completed a level!\")"
      ],
      "metadata": {
        "id": "Nx9lhAghWRov"
      },
      "execution_count": 3,
      "outputs": []
    },
    {
      "cell_type": "markdown",
      "source": [
        "Note: Since the statement is not true, no output for the print statement exists as it stands."
      ],
      "metadata": {
        "id": "I9Kjct2kWzec"
      }
    },
    {
      "cell_type": "code",
      "source": [
        "door = \"Next Level\"\n",
        "if door == \"Next Level\" :\n",
        "  levelCompleted = True\n",
        "  print(\"You completed a level!\")\n",
        "elif door == \"Dungeon\" :\n",
        "  dungeonEntered = True\n",
        "  print(\"You have entered a dungeon!\")"
      ],
      "metadata": {
        "colab": {
          "base_uri": "https://localhost:8080/"
        },
        "id": "WExZdBJoX19K",
        "outputId": "73f5c0df-f955-46e3-a359-bef410bf9e12"
      },
      "execution_count": 4,
      "outputs": [
        {
          "output_type": "stream",
          "name": "stdout",
          "text": [
            "You completed a level!\n"
          ]
        }
      ]
    },
    {
      "cell_type": "code",
      "source": [
        "door = \"Next Level\"\n",
        "door = \"Dungeon\"\n",
        "if door == \"Next Level\" :\n",
        "  levelCompleted = True\n",
        "  print(\"You completed a level!\")\n",
        "elif door == \"Dungeon\" :\n",
        "  dungeonEntered = True\n",
        "  print(\"You have entered a dungeon!\")"
      ],
      "metadata": {
        "colab": {
          "base_uri": "https://localhost:8080/"
        },
        "outputId": "69c2f5c6-7edb-482c-9871-637f67c61416",
        "id": "HpIFV3vYYqN6"
      },
      "execution_count": 6,
      "outputs": [
        {
          "output_type": "stream",
          "name": "stdout",
          "text": [
            "You have entered a dungeon!\n"
          ]
        }
      ]
    },
    {
      "cell_type": "markdown",
      "source": [
        "Note: Code runs from top to bottom. The second statement overwrote the first therby nullifying the original statement."
      ],
      "metadata": {
        "id": "v07GgoQgZCO_"
      }
    }
  ]
}