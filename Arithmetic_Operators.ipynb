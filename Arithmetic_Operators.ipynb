{
  "nbformat": 4,
  "nbformat_minor": 0,
  "metadata": {
    "colab": {
      "provenance": [],
      "authorship_tag": "ABX9TyMo8szEcpgoERt1zqqHGlK+"
    },
    "kernelspec": {
      "name": "python3",
      "display_name": "Python 3"
    },
    "language_info": {
      "name": "python"
    }
  },
  "cells": [
    {
      "cell_type": "code",
      "execution_count": 1,
      "metadata": {
        "colab": {
          "base_uri": "https://localhost:8080/"
        },
        "id": "_zHwJwFmOHdF",
        "outputId": "e263cc53-5d6c-4e65-b4c0-2fb47b32bc91"
      },
      "outputs": [
        {
          "output_type": "execute_result",
          "data": {
            "text/plain": [
              "17.5"
            ]
          },
          "metadata": {},
          "execution_count": 1
        }
      ],
      "source": [
        "5 * 7 /2"
      ]
    },
    {
      "cell_type": "code",
      "source": [
        "variableOne = 5\n",
        "variableTwo = 7\n",
        "variableThree = 2\n",
        "variableOne * variableTwo / variableThree"
      ],
      "metadata": {
        "colab": {
          "base_uri": "https://localhost:8080/"
        },
        "id": "5LcGgwctOoWg",
        "outputId": "43068eec-b1d9-4646-d4f2-227edd9b7807"
      },
      "execution_count": 2,
      "outputs": [
        {
          "output_type": "execute_result",
          "data": {
            "text/plain": [
              "17.5"
            ]
          },
          "metadata": {},
          "execution_count": 2
        }
      ]
    }
  ]
}