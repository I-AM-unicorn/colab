{
  "nbformat": 4,
  "nbformat_minor": 0,
  "metadata": {
    "colab": {
      "provenance": [],
      "authorship_tag": "ABX9TyMIm/jQCIAPydSZWWShV8V9"
    },
    "kernelspec": {
      "name": "python3",
      "display_name": "Python 3"
    },
    "language_info": {
      "name": "python"
    }
  },
  "cells": [
    {
      "cell_type": "code",
      "execution_count": null,
      "metadata": {
        "id": "lU2hBBBwjcwq"
      },
      "outputs": [],
      "source": [
        "# Classes and Objects  -  Basic\n",
        "# Classes  -  Act like blueprints for an object (Defining variables and functions)\n",
        "# Objects  -  Are what we ge the states from and execute code on. Calls upon functions defined in the Class\n",
        "# State and Behavior  -- State defines variables describing an object. Behavior describes functions used to change the states."
      ]
    },
    {
      "cell_type": "code",
      "source": [
        "# Example  -  Create Class\n",
        "class GameCharacter: # Use Full Case instead of Camel Case\n",
        "    def __init__(self, name, position, health):  # __init__ creates (initializes) a 'GameCharacter'\n",
        "      self.name = name\n",
        "      self.position = position\n",
        "      self.health = health\n",
        "\n",
        "    def move(self, byAmount):\n",
        "      self.position += byAmount\n",
        "\n",
        "# The above examples sets the variables defined and gives access to the defined function for the Class\n",
        "# Create Object\n",
        "# Creating an instance is creating an object using the particular Class\n",
        "\n",
        "character = GameCharacter(\"Buster\", 10, 100)  # This is now an Object ( The state)\n",
        "# The following is examples of object behavior\n",
        "print(character.name)\n",
        "print (character.health)\n",
        "character.health += 25\n",
        "print(character.health)\n",
        "character.move(33)\n",
        "print(character.position)\n"
      ],
      "metadata": {
        "colab": {
          "base_uri": "https://localhost:8080/"
        },
        "id": "paaYfbRWnRfm",
        "outputId": "0f94ae8e-1be2-44df-d61a-0396dd9ba1d8"
      },
      "execution_count": 9,
      "outputs": [
        {
          "output_type": "stream",
          "name": "stdout",
          "text": [
            "Buster\n",
            "100\n",
            "125\n",
            "43\n"
          ]
        }
      ]
    }
  ]
}