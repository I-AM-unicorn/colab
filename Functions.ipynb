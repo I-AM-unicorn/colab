{
  "nbformat": 4,
  "nbformat_minor": 0,
  "metadata": {
    "colab": {
      "provenance": [],
      "authorship_tag": "ABX9TyPugO3c1syAi/ogguXmxwmA"
    },
    "kernelspec": {
      "name": "python3",
      "display_name": "Python 3"
    },
    "language_info": {
      "name": "python"
    }
  },
  "cells": [
    {
      "cell_type": "code",
      "execution_count": null,
      "metadata": {
        "id": "snlLgNUyezE5"
      },
      "outputs": [],
      "source": [
        "# Functions - Ways to contain code and choose when and where to run them.\n",
        "# def function():     -- defining the function  -- can have multiple parameters iside parentheses\n",
        "#   global function   -- To allow use beyond 'local' code  --  try to avoid or at least minimize use.\n",
        "#   code to execute"
      ]
    },
    {
      "cell_type": "code",
      "source": [
        "def move(position, byAmount):\n",
        "  newPosition = position + byAmount\n",
        "  return newPosition\n",
        "finalPosition = move(0,5)\n",
        "print(finalPosition)"
      ],
      "metadata": {
        "colab": {
          "base_uri": "https://localhost:8080/"
        },
        "id": "aqcpVnevhGWR",
        "outputId": "836c4c21-4ce6-4edd-a387-28910d4a0530"
      },
      "execution_count": 1,
      "outputs": [
        {
          "output_type": "stream",
          "name": "stdout",
          "text": [
            "5\n"
          ]
        }
      ]
    }
  ]
}