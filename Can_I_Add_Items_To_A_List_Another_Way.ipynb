{
  "nbformat": 4,
  "nbformat_minor": 0,
  "metadata": {
    "colab": {
      "provenance": [],
      "authorship_tag": "ABX9TyOhcI80RRWhecN+vXDkhVRo"
    },
    "kernelspec": {
      "name": "python3",
      "display_name": "Python 3"
    },
    "language_info": {
      "name": "python"
    }
  },
  "cells": [
    {
      "cell_type": "markdown",
      "source": [
        "Keywords, Key Phrases and Functions are predefined operations in coding languages."
      ],
      "metadata": {
        "id": "sUrGG5-3DXnu"
      }
    },
    {
      "cell_type": "markdown",
      "source": [
        "Adding to a list using the Append function (.append)"
      ],
      "metadata": {
        "id": "tL079jaVBcaU"
      }
    },
    {
      "cell_type": "code",
      "execution_count": 3,
      "metadata": {
        "colab": {
          "base_uri": "https://localhost:8080/"
        },
        "id": "_tHXwjtJA9cA",
        "outputId": "d327d544-f937-49e9-e32f-ace7afbb6876"
      },
      "outputs": [
        {
          "output_type": "stream",
          "name": "stdout",
          "text": [
            "['pepperoni', 'mozzerella', 'green pepper', 'onion', 'sausage']\n"
          ]
        }
      ],
      "source": [
        "pizzaToppings = [\"pepperoni\", \"mozzerella\", \"green pepper\", \"onion\"]\n",
        "pizzaToppings.append(\"sausage\")\n",
        "print(pizzaToppings)"
      ]
    },
    {
      "cell_type": "markdown",
      "source": [
        "Challenge: Create a 'closet items' list to iclude the following items: clothing, boxes and secret stuff. Add additional items using the shorthand operator and the Append function."
      ],
      "metadata": {
        "id": "BGOZazTMEDoT"
      }
    },
    {
      "cell_type": "code",
      "source": [
        "closetItems = [\"clothing\", \"boxes\", \"secret stuff\"]\n",
        "print(closetItems)"
      ],
      "metadata": {
        "colab": {
          "base_uri": "https://localhost:8080/"
        },
        "id": "8EuWfk15FM50",
        "outputId": "c77769a6-579e-47d9-e31e-44949cebe899"
      },
      "execution_count": 6,
      "outputs": [
        {
          "output_type": "stream",
          "name": "stdout",
          "text": [
            "['clothing', 'boxes', 'secret stuff']\n"
          ]
        }
      ]
    },
    {
      "cell_type": "code",
      "source": [
        "closetItems += [\"hangers\"]\n",
        "print(closetItems)"
      ],
      "metadata": {
        "colab": {
          "base_uri": "https://localhost:8080/"
        },
        "id": "LvIyVyYJFlNn",
        "outputId": "56be1dbb-8249-41ac-ccce-c872ec0bb697"
      },
      "execution_count": 7,
      "outputs": [
        {
          "output_type": "stream",
          "name": "stdout",
          "text": [
            "['clothing', 'boxes', 'secret stuff', 'hangers']\n"
          ]
        }
      ]
    },
    {
      "cell_type": "code",
      "source": [
        "closetItems.append(\"shoes\")\n",
        "print(closetItems)"
      ],
      "metadata": {
        "colab": {
          "base_uri": "https://localhost:8080/"
        },
        "id": "0_7slns3F0IN",
        "outputId": "73898674-1847-4f7e-9b64-acbdfaebde78"
      },
      "execution_count": 9,
      "outputs": [
        {
          "output_type": "stream",
          "name": "stdout",
          "text": [
            "['clothing', 'boxes', 'secret stuff', 'hangers', 'shoes']\n"
          ]
        }
      ]
    },
    {
      "cell_type": "markdown",
      "source": [
        "Note: Sorthand operator surrounds added item(s) with brackets while Append function uses parentheses."
      ],
      "metadata": {
        "id": "Rv21XvnAGZLk"
      }
    },
    {
      "cell_type": "code",
      "source": [],
      "metadata": {
        "id": "cPXYj299GxWn"
      },
      "execution_count": null,
      "outputs": []
    }
  ]
}