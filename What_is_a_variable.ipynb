{
  "nbformat": 4,
  "nbformat_minor": 0,
  "metadata": {
    "colab": {
      "provenance": [],
      "authorship_tag": "ABX9TyMc2ChFOCnJYlwj/Ri9TK2/",
      "include_colab_link": true
    },
    "kernelspec": {
      "name": "python3",
      "display_name": "Python 3"
    },
    "language_info": {
      "name": "python"
    }
  },
  "cells": [
    {
      "cell_type": "markdown",
      "metadata": {
        "id": "view-in-github",
        "colab_type": "text"
      },
      "source": [
        "<a href=\"https://colab.research.google.com/github/I-AM-unicorn/colab/blob/main/What_is_a_variable.ipynb\" target=\"_parent\"><img src=\"https://colab.research.google.com/assets/colab-badge.svg\" alt=\"Open In Colab\"/></a>"
      ]
    },
    {
      "cell_type": "code",
      "execution_count": null,
      "metadata": {
        "colab": {
          "base_uri": "https://localhost:8080/"
        },
        "id": "q-HYdEgTPSCP",
        "outputId": "6b591b5f-8fec-4970-aec4-55aa8cc20513"
      },
      "outputs": [
        {
          "output_type": "stream",
          "name": "stdout",
          "text": [
            "Wilson\n"
          ]
        }
      ],
      "source": [
        "myName = \"Wilson\"\n",
        "print(myName)"
      ]
    },
    {
      "cell_type": "code",
      "source": [
        "myName = \"Penguin\"\n",
        "print(myName)"
      ],
      "metadata": {
        "colab": {
          "base_uri": "https://localhost:8080/"
        },
        "id": "t8hjSVXVPmMP",
        "outputId": "26189c94-90c6-4e97-ac54-fc07e4e74ff7"
      },
      "execution_count": null,
      "outputs": [
        {
          "output_type": "stream",
          "name": "stdout",
          "text": [
            "Penguin\n"
          ]
        }
      ]
    },
    {
      "cell_type": "code",
      "source": [
        "numberOfPets = 3\n",
        "# 3 + numberOfPets  Wrong syntax\n",
        "print(numberOfPets)"
      ],
      "metadata": {
        "colab": {
          "base_uri": "https://localhost:8080/"
        },
        "id": "1Pk-oCYAP2T5",
        "outputId": "889c1ac2-92bc-4caf-d5d3-aacb03f203c5"
      },
      "execution_count": null,
      "outputs": [
        {
          "output_type": "stream",
          "name": "stdout",
          "text": [
            "3\n"
          ]
        }
      ]
    },
    {
      "cell_type": "code",
      "source": [
        "10Balloons = \"buy ten balloons\""
      ],
      "metadata": {
        "colab": {
          "base_uri": "https://localhost:8080/",
          "height": 134
        },
        "id": "XpAA21GIQiIu",
        "outputId": "798e6ec6-347c-4937-e344-0c13ba00386c"
      },
      "execution_count": null,
      "outputs": [
        {
          "output_type": "error",
          "ename": "SyntaxError",
          "evalue": "ignored",
          "traceback": [
            "\u001b[0;36m  File \u001b[0;32m\"<ipython-input-4-572edbd03bb7>\"\u001b[0;36m, line \u001b[0;32m1\u001b[0m\n\u001b[0;31m    10Balloons = \"buy ten balloons\"\u001b[0m\n\u001b[0m     ^\u001b[0m\n\u001b[0;31mSyntaxError\u001b[0m\u001b[0;31m:\u001b[0m invalid decimal literal\n"
          ]
        }
      ]
    },
    {
      "cell_type": "markdown",
      "source": [
        "ten_balloons = \"buy ten balloons\"  Tis is also  avalid variable name"
      ],
      "metadata": {
        "id": "axD_-eCARKB8"
      }
    },
    {
      "cell_type": "code",
      "source": [
        "myAge = 62\n",
        "my_age = 62\n",
        "print(myAge)\n",
        "print(my_age)"
      ],
      "metadata": {
        "colab": {
          "base_uri": "https://localhost:8080/"
        },
        "id": "9qQpeiH5Si7S",
        "outputId": "bb9d35c2-b5de-4fd5-f993-a40236c99fb5"
      },
      "execution_count": null,
      "outputs": [
        {
          "output_type": "stream",
          "name": "stdout",
          "text": [
            "62\n",
            "62\n"
          ]
        }
      ]
    },
    {
      "cell_type": "markdown",
      "source": [
        "nothing = \"\"\n",
        "print(nothing)"
      ],
      "metadata": {
        "id": "hqI9YT2pRdUa"
      }
    },
    {
      "cell_type": "code",
      "source": [
        "floatNumber = 3.14\n",
        "print(floatNumber)"
      ],
      "metadata": {
        "colab": {
          "base_uri": "https://localhost:8080/"
        },
        "id": "nY7FhPV7Rtcg",
        "outputId": "0396e3aa-8ed6-4085-d857-602fdb595eee"
      },
      "execution_count": null,
      "outputs": [
        {
          "output_type": "stream",
          "name": "stdout",
          "text": [
            "3.14\n"
          ]
        }
      ]
    }
  ]
}